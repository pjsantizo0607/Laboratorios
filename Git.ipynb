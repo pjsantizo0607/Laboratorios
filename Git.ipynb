{
 "cells": [
  {
   "cell_type": "markdown",
   "id": "73ea4218-cec1-46df-bd01-b2677e98cd2b",
   "metadata": {},
   "source": [
    "# Investigación de Git y GitHub\n",
    "Pablo Santizo \\\n",
    "Carné: XXXXXX \\\n",
    "Maestría en Ciencia de Datos\\\n",
    "Instituto de Investigación de Operaciones\\\n",
    "Unversidad Galileo\\\n",
    "03 de febrero de 2024"
   ]
  },
  {
   "cell_type": "code",
   "execution_count": null,
   "id": "a14f8593-1085-4d3d-92c6-7afca8c9e2ef",
   "metadata": {},
   "outputs": [],
   "source": [
    "backgroound"
   ]
  },
  {
   "cell_type": "markdown",
   "id": "4ea2b2b3-0e09-4daf-9a7c-beb1caa2d21c",
   "metadata": {},
   "source": [
    "## que es git"
   ]
  },
  {
   "cell_type": "markdown",
   "id": "670a8b66-da8c-4f20-9466-e4039e1de587",
   "metadata": {},
   "source": [
    "### que es un sistema de control de versiones "
   ]
  },
  {
   "cell_type": "markdown",
   "id": "bee1c3d6-1fd2-4129-8706-c9d5a9f5bb1f",
   "metadata": {},
   "source": [
    "### historia del control de versiones"
   ]
  },
  {
   "cell_type": "markdown",
   "id": "1601aed2-7086-42c0-8812-baaa302134c3",
   "metadata": {},
   "source": [
    "### historia de Git"
   ]
  },
  {
   "cell_type": "markdown",
   "id": "ba28001b-b2ed-4bb0-b941-d8cb4bef9611",
   "metadata": {},
   "source": [
    "# Que es GITHUB"
   ]
  },
  {
   "cell_type": "markdown",
   "id": "efa54473-df14-4d0f-9907-32e182e2d109",
   "metadata": {
    "tags": []
   },
   "source": [
    "# magic cells"
   ]
  },
  {
   "cell_type": "code",
   "execution_count": 3,
   "id": "b26f1510-e511-4ed8-a72a-06459d22ecf8",
   "metadata": {},
   "outputs": [
    {
     "name": "stdout",
     "output_type": "stream",
     "text": [
      "C:\\Users\\psantizo\\Documents\\Ciencia_de_datos\\Notebooks\\Entregas\n"
     ]
    }
   ],
   "source": [
    "cd \"C:/Users/psantizo/Documents/Ciencia_de_datos/Notebooks/!git commit -mEntregas\""
   ]
  },
  {
   "cell_type": "code",
   "execution_count": 4,
   "id": "ab1a5fcf-11a5-462c-b87e-3084809ae5bc",
   "metadata": {},
   "outputs": [
    {
     "name": "stdout",
     "output_type": "stream",
     "text": [
      "Initialized empty Git repository in C:/Users/psantizo/Documents/Ciencia_de_datos/Notebooks/Entregas/.git/\n"
     ]
    },
    {
     "name": "stderr",
     "output_type": "stream",
     "text": [
      "hint: Using 'master' as the name for the initial branch. This default branch name\n",
      "hint: is subject to change. To configure the initial branch name to use in all\n",
      "hint: of your new repositories, which will suppress this warning, call:\n",
      "hint: \n",
      "hint: \tgit config --global init.defaultBranch <name>\n",
      "hint: \n",
      "hint: Names commonly chosen instead of 'master' are 'main', 'trunk' and\n",
      "hint: 'development'. The just-created branch can be renamed via this command:\n",
      "hint: \n",
      "hint: \tgit branch -m <name>\n"
     ]
    }
   ],
   "source": [
    "!git init"
   ]
  },
  {
   "cell_type": "code",
   "execution_count": 5,
   "id": "f89cd6e0-b22f-4cc4-ada1-ba228eb8577c",
   "metadata": {},
   "outputs": [
    {
     "data": {
      "text/plain": [
       "['Nothing specified, nothing added.',\n",
       " \"hint: Maybe you wanted to say 'git add .'?\",\n",
       " 'hint: Turn this message off by running',\n",
       " 'hint: \"git config advice.addEmptyPathspec false\"']"
      ]
     },
     "execution_count": 5,
     "metadata": {},
     "output_type": "execute_result"
    }
   ],
   "source": [
    "!!git add "
   ]
  },
  {
   "cell_type": "code",
   "execution_count": 6,
   "id": "ed109f43-0fe1-4b4e-9cd1-cc1525132003",
   "metadata": {},
   "outputs": [
    {
     "name": "stderr",
     "output_type": "stream",
     "text": [
      "warning: in the working copy of '.ipynb_checkpoints/Git-checkpoint.ipynb', LF will be replaced by CRLF the next time Git touches it\n",
      "warning: in the working copy of 'Git.ipynb', LF will be replaced by CRLF the next time Git touches it\n"
     ]
    }
   ],
   "source": [
    "!git add ."
   ]
  },
  {
   "cell_type": "code",
   "execution_count": 7,
   "id": "67fb677c-f6f1-40b6-be73-d4b1eda6c625",
   "metadata": {},
   "outputs": [
    {
     "name": "stderr",
     "output_type": "stream",
     "text": [
      "error: switch `m' requires a value\n"
     ]
    }
   ],
   "source": [
    "!git commit -m"
   ]
  },
  {
   "cell_type": "code",
   "execution_count": 8,
   "id": "4442bd0e-2fc0-419b-8a4c-91d58b8fed8f",
   "metadata": {},
   "outputs": [
    {
     "name": "stdout",
     "output_type": "stream",
     "text": [
      "[master (root-commit) 6c5998c] Actualizando notebook a GitHub\n",
      " Committer: Pablo JosuÃ© Santizo Flores <psantizo@MINFIN.DI.GOBIERNO>\n",
      "Your name and email address were configured automatically based\n",
      "on your username and hostname. Please check that they are accurate.\n",
      "You can suppress this message by setting them explicitly:\n",
      "\n",
      "    git config --global user.name \"Your Name\"\n",
      "    git config --global user.email you@example.com\n",
      "\n",
      "After doing this, you may fix the identity used for this commit with:\n",
      "\n",
      "    git commit --amend --reset-author\n",
      "\n",
      " 2 files changed, 394 insertions(+)\n",
      " create mode 100644 .ipynb_checkpoints/Git-checkpoint.ipynb\n",
      " create mode 100644 Git.ipynb\n"
     ]
    }
   ],
   "source": [
    "!git commit -m \"Actualizando notebook a GitHub\""
   ]
  },
  {
   "cell_type": "code",
   "execution_count": 9,
   "id": "5db8277e-a545-4508-9493-46f15d084aeb",
   "metadata": {},
   "outputs": [],
   "source": [
    "!git remote add origin https://github.com/pjsantizo0607/Laboratorios.git"
   ]
  },
  {
   "cell_type": "code",
   "execution_count": 10,
   "id": "db910fdd-82d2-443d-960b-c2458669b0e3",
   "metadata": {},
   "outputs": [
    {
     "name": "stderr",
     "output_type": "stream",
     "text": [
      "fatal: unable to access 'https://github.com/pjsantizo0607/Laboratorios.git/': SSL certificate problem: self signed certificate in certificate chain\n"
     ]
    }
   ],
   "source": [
    "!git push -u origin master"
   ]
  },
  {
   "cell_type": "code",
   "execution_count": null,
   "id": "056823f5-6237-47a4-8838-56090d329010",
   "metadata": {},
   "outputs": [],
   "source": []
  }
 ],
 "metadata": {
  "kernelspec": {
   "display_name": "Python 3 (ipykernel)",
   "language": "python",
   "name": "python3"
  },
  "language_info": {
   "codemirror_mode": {
    "name": "ipython",
    "version": 3
   },
   "file_extension": ".py",
   "mimetype": "text/x-python",
   "name": "python",
   "nbconvert_exporter": "python",
   "pygments_lexer": "ipython3",
   "version": "3.11.7"
  }
 },
 "nbformat": 4,
 "nbformat_minor": 5
}
