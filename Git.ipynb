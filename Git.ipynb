{
 "cells": [
  {
   "cell_type": "markdown",
   "id": "73ea4218-cec1-46df-bd01-b2677e98cd2b",
   "metadata": {},
   "source": [
    "# Investigación de Git y GitHub\n",
    "Pablo Santizo \\\n",
    "Carné: XXXXXX \\\n",
    "Maestría en Ciencia de Datos\\\n",
    "Instituto de Investigación de Operaciones\\\n",
    "Unversidad Galileo\\\n",
    "03 de febrero de 2024"
   ]
  },
  {
   "cell_type": "code",
   "execution_count": null,
   "id": "a14f8593-1085-4d3d-92c6-7afca8c9e2ef",
   "metadata": {},
   "outputs": [],
   "source": [
    "backgroound"
   ]
  },
  {
   "cell_type": "markdown",
   "id": "4ea2b2b3-0e09-4daf-9a7c-beb1caa2d21c",
   "metadata": {
    "jp-MarkdownHeadingCollapsed": true
   },
   "source": [
    "## que es git"
   ]
  },
  {
   "cell_type": "markdown",
   "id": "670a8b66-da8c-4f20-9466-e4039e1de587",
   "metadata": {},
   "source": [
    "### que es un sistema de control de versiones "
   ]
  },
  {
   "cell_type": "markdown",
   "id": "bee1c3d6-1fd2-4129-8706-c9d5a9f5bb1f",
   "metadata": {},
   "source": [
    "### historia del control de versiones"
   ]
  },
  {
   "cell_type": "markdown",
   "id": "1601aed2-7086-42c0-8812-baaa302134c3",
   "metadata": {},
   "source": [
    "### historia de Git"
   ]
  },
  {
   "cell_type": "markdown",
   "id": "ba28001b-b2ed-4bb0-b941-d8cb4bef9611",
   "metadata": {},
   "source": [
    "# Que es GITHUB"
   ]
  },
  {
   "cell_type": "markdown",
   "id": "efa54473-df14-4d0f-9907-32e182e2d109",
   "metadata": {
    "tags": []
   },
   "source": [
    "# magic cells"
   ]
  },
  {
   "cell_type": "code",
   "execution_count": 1,
   "id": "b26f1510-e511-4ed8-a72a-06459d22ecf8",
   "metadata": {},
   "outputs": [
    {
     "name": "stdout",
     "output_type": "stream",
     "text": [
      "[WinError 3] El sistema no puede encontrar la ruta especificada: 'Documents/Ciencia_de_datos/Notebooks/Entregas'\n",
      "C:\\Users\\psantizo\\Documents\\Ciencia_de_datos\\Notebooks\\Entregas\n"
     ]
    },
    {
     "name": "stderr",
     "output_type": "stream",
     "text": [
      "C:\\Users\\psantizo\\AppData\\Local\\anaconda3\\envs\\jupyterlab\\Lib\\site-packages\\IPython\\core\\magics\\osm.py:393: UserWarning: using bookmarks requires you to install the `pickleshare` library.\n",
      "  bkms = self.shell.db.get('bookmarks', {})\n"
     ]
    }
   ],
   "source": [
    "cd \"C:\\Users\\psantizo\\Documents\\Ciencia_de_datos\\Notebooks\\Entregas\""
   ]
  },
  {
   "cell_type": "code",
   "execution_count": 4,
   "id": "ab1a5fcf-11a5-462c-b87e-3084809ae5bc",
   "metadata": {},
   "outputs": [
    {
     "name": "stdout",
     "output_type": "stream",
     "text": [
      "Reinitialized existing Git repository in C:/Users/psantizo/Documents/Ciencia_de_datos/Notebooks/.git/\n"
     ]
    }
   ],
   "source": [
    "!git init"
   ]
  },
  {
   "cell_type": "code",
   "execution_count": 5,
   "id": "f89cd6e0-b22f-4cc4-ada1-ba228eb8577c",
   "metadata": {},
   "outputs": [
    {
     "data": {
      "text/plain": [
       "['Nothing specified, nothing added.',\n",
       " \"hint: Maybe you wanted to say 'git add .'?\",\n",
       " 'hint: Turn this message off by running',\n",
       " 'hint: \"git config advice.addEmptyPathspec false\"']"
      ]
     },
     "execution_count": 5,
     "metadata": {},
     "output_type": "execute_result"
    }
   ],
   "source": [
    "!!git add "
   ]
  },
  {
   "cell_type": "code",
   "execution_count": 6,
   "id": "ed109f43-0fe1-4b4e-9cd1-cc1525132003",
   "metadata": {},
   "outputs": [
    {
     "name": "stderr",
     "output_type": "stream",
     "text": [
      "warning: in the working copy of '.ipynb_checkpoints/leccion_22-checkpoint.ipynb', LF will be replaced by CRLF the next time Git touches it\n",
      "warning: in the working copy of 'leccion_22.ipynb', LF will be replaced by CRLF the next time Git touches it\n",
      "warning: in the working copy of '.ipynb_checkpoints/Git-checkpoint.ipynb', LF will be replaced by CRLF the next time Git touches it\n",
      "warning: in the working copy of '.ipynb_checkpoints/Untitled-checkpoint.ipynb', LF will be replaced by CRLF the next time Git touches it\n",
      "warning: in the working copy of 'Git.ipynb', LF will be replaced by CRLF the next time Git touches it\n",
      "warning: in the working copy of 'Untitled.ipynb', LF will be replaced by CRLF the next time Git touches it\n"
     ]
    }
   ],
   "source": [
    "!git add ."
   ]
  },
  {
   "cell_type": "code",
   "execution_count": null,
   "id": "67fb677c-f6f1-40b6-be73-d4b1eda6c625",
   "metadata": {},
   "outputs": [],
   "source": []
  }
 ],
 "metadata": {
  "kernelspec": {
   "display_name": "Python 3 (ipykernel)",
   "language": "python",
   "name": "python3"
  },
  "language_info": {
   "codemirror_mode": {
    "name": "ipython",
    "version": 3
   },
   "file_extension": ".py",
   "mimetype": "text/x-python",
   "name": "python",
   "nbconvert_exporter": "python",
   "pygments_lexer": "ipython3",
   "version": "3.11.7"
  }
 },
 "nbformat": 4,
 "nbformat_minor": 5
}
