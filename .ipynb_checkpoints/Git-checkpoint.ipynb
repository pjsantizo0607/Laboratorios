{
 "cells": [
  {
   "cell_type": "markdown",
   "id": "73ea4218-cec1-46df-bd01-b2677e98cd2b",
   "metadata": {},
   "source": [
    "# Investigación de Git y GitHub\n",
    "Pablo Santizo \\\n",
    "Carné: XXXXXX \\\n",
    "Maestría en Ciencia de Datos\\\n",
    "Instituto de Investigación de Operaciones\\\n",
    "Unversidad Galileo\\\n",
    "08 de febrero de 2024"
   ]
  },
  {
   "cell_type": "markdown",
   "id": "63ac4da2-f387-4747-98ff-463d9999bbf6",
   "metadata": {},
   "source": [
    "## 1. Sistema de control de versiones"
   ]
  },
  {
   "cell_type": "markdown",
   "id": "2b0ee326-5886-492e-8b1b-b011a05bfc46",
   "metadata": {},
   "source": [
    "El control de versiones es un sistema que lleva **registro de los cambios que se realizaron en un archivo o conjunto de archivos en el tiempo**, con el fin de poder recuperar versiones anteriores en el futuro."
   ]
  },
  {
   "cell_type": "markdown",
   "id": "f835077d-02d7-460a-8861-16885c8f9903",
   "metadata": {},
   "source": [
    "## 2. Git"
   ]
  },
  {
   "cell_type": "markdown",
   "id": "a480aaff-34b2-4e49-9ae2-ed194200712e",
   "metadata": {},
   "source": [
    "### 2.1 Breve historia de Git"
   ]
  },
  {
   "cell_type": "markdown",
   "id": "02da6a1a-8681-47e5-8004-af439096dc69",
   "metadata": {},
   "source": [
    "El kernel de Linux utilizaba un sistema de control de versiones (DVCS por sus siglas en inglés) que era de propiedad de Bitkeeper. En 2005 esta compañía se vino abajo y dejo de ser gratuita, por lo que impulsó a que los desarrolladores de Linux y su creador, desarrollaran su propia herramienta de sistema de control de versiones.\n",
    "\n",
    "Los objetivos que consideraron para el desarrollo fue la velocidad, el diseño sencillo, gran soporte para miles de ramas parales, que estuviera completamente distribuido y que se pudieran manejar grandes proyectos. Fue así como nación GIT, que desde el 2005 ha madurado y evolucionado mejorando estas características y volviéndose eficiente con grandes proyectos y un sistema de ramificación no lineal."
   ]
  },
  {
   "cell_type": "markdown",
   "id": "4ea2b2b3-0e09-4daf-9a7c-beb1caa2d21c",
   "metadata": {},
   "source": [
    "### 2.2 ¿Que es Git?"
   ]
  },
  {
   "cell_type": "markdown",
   "id": "3cbfd413-8897-4447-a1e6-99747be085a9",
   "metadata": {},
   "source": [
    "Es un **sistema d econtrol de versiones**, como se explicó con anterioridad, su objetivo es dar seguimientos a los cambios realizados en los archivos. Por loq ue todos los que trabajan con un proyecto de Git tienen acceso a una copia del proyecto completo.\n",
    "\n",
    "Git maneja y alamacena información de forma diferente a otros sistemas de versiones de cambios. La principal diferenciaes la forma de manejar los datos, **Git maneja y almacena los datos como un conjunto de copias instantáneas de un sistema de archivos pequeños**. Al confirmarse un cambio o guardar el proyecto, se toma una foto del aspecto del archivo en ese momento y se guarda una referencia. Para buscar la aeficiencia Git no almacena el archivo nuevo, sino un enlace al archivo anterior idéntico al que ya fue almacenado.\n",
    "\n",
    "Asimismo, **la mayoría de las operaciones son locales y no se necesita información de la red para funcionar**. Por lo que para navegar en el proyecto se utiliza la base de datos local. Por lo que de no tener acceso a la red, se puede trabajar durante ese tiempo y posteriormente al tener acceso se confirman los cambios para subirlos.\n",
    "\n",
    "Git poseee integridad, dado que todo cambio es verificado mediante una suma de comprobación previamente a ser almacenado, y se identifica a partir de esa suma. Por lo que es imposible cambiar contenido sin que quede registro."
   ]
  },
  {
   "cell_type": "markdown",
   "id": "a74fcdec-1dc0-49bd-a445-121116c5d4e1",
   "metadata": {},
   "source": [
    "#### 2.2.1 Los tres estados de GIT\n",
    "\n",
    "GIT maneja tres estados principales en los archivos, que son confirmado (committed), modificado (modified) y preparado (staged).  el estado **confirmado** indica que los datos estan almacenados de forma segura en la base de datos local. El estado **modificado** significa que aunque se realizó una modificación, esta aún no se encuentra confirmada en la base de datos. El estado Preparado indica que el archivo esta marcado un archivo modificado para que vaya en la proima versión.\n"
   ]
  },
  {
   "cell_type": "markdown",
   "id": "ba28001b-b2ed-4bb0-b941-d8cb4bef9611",
   "metadata": {},
   "source": [
    "## 3. ¿Que es Github?"
   ]
  },
  {
   "cell_type": "markdown",
   "id": "0457e0c8-9095-431c-9ad9-985e553c3608",
   "metadata": {},
   "source": [
    "Es un sitio Web donde se puede subir una copia del repositorio de GIT, esto permite colaborar de forma fácil con los colaboradores del proyecto. Esto se hace proporcionando una ubicación centralizada para poder compartir el respoitorio y una interfaz web para verlo, por lo que es de utilidad para revisar los cambios con el equipo de desarrollo de una forma más efectiva.\n",
    "\n",
    "Entre las **ventajas de Github** se encuentran las siguientes:\n",
    "\n",
    "- **Requerimientos de documentos:** se pueden documentar errores y/o especificar nuevas carácteristicas que se quiera que el equipo desarrolle.\n",
    "- **Colaborar de forma independiente:** en las distintas ramas se pueden solicitar la incorporación de cambios en paraleo.\n",
    "- **Revisar el trabajo:** se puede observar con facilidad en que se está trabajando actualmente, y dar seguimiento a las incorporaciones de cambios.\n",
    "- **Ver el progreso del equipo** con el historial de confirmaciones se puede ver como y en que ha estado trabajando el equipo.\n"
   ]
  },
  {
   "cell_type": "markdown",
   "id": "0e5d8df5-aaa4-4036-8eed-9233d4ba911b",
   "metadata": {},
   "source": [
    "### 3.1 Github y Jupiterlab (Anaconda)"
   ]
  },
  {
   "cell_type": "markdown",
   "id": "56da2af3-33c8-47c7-b076-8ceedfcddc79",
   "metadata": {},
   "source": [
    "Jupiterlab cuenta con una extensión con nombre **jupyterlab-git**, la cual habilita un panel para hacer uso manualmente de las principales funciones de Git. Por otro lado el paquete **git** y **gitpython** de Python permite realizar las funciones de git a traves de comandos, como clonar los repositorios, modificar archivos, confirmar cambios y trabajar en distintas ramas."
   ]
  },
  {
   "cell_type": "markdown",
   "id": "efa54473-df14-4d0f-9907-32e182e2d109",
   "metadata": {
    "tags": []
   },
   "source": [
    "## 4. Magic Cells"
   ]
  },
  {
   "cell_type": "markdown",
   "id": "b8436f57-a027-4c03-b32b-9c857a696338",
   "metadata": {},
   "source": [
    "En Jupyter, las magics cells permiten extender la funcionalidad de las celdas de código y proporcionar comandos especiales, adicionales a las del entorno de un código. Estas magics son específicas y proporcionadas por el kernel de IPython. Para utilizar las magics se debe utilizar en una sintaxis no valida en el lenguaje subyacente del entorno. Ejemplo en IPython se suele usar el elemento ***%***, dado que no es un operador valido en python, se puede utilziar el operador ***!***."
   ]
  },
  {
   "cell_type": "markdown",
   "id": "48c4b28a-a5ed-4c5c-bda8-5ebac865a0fe",
   "metadata": {},
   "source": [
    "## 5. Ejemplo para subir en Github el presente notebook utilizando Magic Cells"
   ]
  },
  {
   "cell_type": "markdown",
   "id": "647761a4-5ae9-4c6e-9ffd-c7c381468c3e",
   "metadata": {},
   "source": [
    "Se selecciona el directorio"
   ]
  },
  {
   "cell_type": "code",
   "execution_count": 10,
   "id": "ff679350-cc17-4f88-a031-ba7ab6fa70a3",
   "metadata": {},
   "outputs": [
    {
     "name": "stdout",
     "output_type": "stream",
     "text": [
      "C:\\Users\\psantizo\\Documents\\Ciencia_de_datos\\Notebooks\\Entregas\n"
     ]
    }
   ],
   "source": [
    "cd \"C:/Users/psantizo/Documents/Ciencia_de_datos/Notebooks/Entregas\""
   ]
  },
  {
   "cell_type": "markdown",
   "id": "ec374901-761c-41e8-9df1-d26dcee0fac0",
   "metadata": {},
   "source": [
    "Despues de instalar **git** se procede a configurar el usuario y la dirección de correo electrónico"
   ]
  },
  {
   "cell_type": "code",
   "execution_count": 11,
   "id": "ea6d13bb-1300-4c8f-bed6-51ecbca87f48",
   "metadata": {},
   "outputs": [],
   "source": [
    "!git config --global user.email \"24000134@galileo.edu\"\n",
    "!git config --global user.name \"pjsantizo0607\""
   ]
  },
  {
   "cell_type": "markdown",
   "id": "412f4489-2036-4f52-a3ea-d6c6c944be39",
   "metadata": {},
   "source": [
    "Se inicia el repositorio que se usa actualmente"
   ]
  },
  {
   "cell_type": "code",
   "execution_count": 12,
   "id": "ab1a5fcf-11a5-462c-b87e-3084809ae5bc",
   "metadata": {},
   "outputs": [
    {
     "name": "stdout",
     "output_type": "stream",
     "text": [
      "Reinitialized existing Git repository in C:/Users/psantizo/Documents/Ciencia_de_datos/Notebooks/Entregas/.git/\n"
     ]
    }
   ],
   "source": [
    "!git init"
   ]
  },
  {
   "cell_type": "markdown",
   "id": "82a98f4e-942c-4b5e-94e7-8e6864a159c4",
   "metadata": {},
   "source": [
    "Se agregan los archivos del respositorio a la zona de preparación"
   ]
  },
  {
   "cell_type": "code",
   "execution_count": 13,
   "id": "ed109f43-0fe1-4b4e-9cd1-cc1525132003",
   "metadata": {},
   "outputs": [],
   "source": [
    "!git add ."
   ]
  },
  {
   "cell_type": "markdown",
   "id": "608e34a6-47ea-4494-acc9-ede8bc9cc682",
   "metadata": {},
   "source": [
    "Se confirman los cambios agregando un mensaje"
   ]
  },
  {
   "cell_type": "code",
   "execution_count": 14,
   "id": "4442bd0e-2fc0-419b-8a4c-91d58b8fed8f",
   "metadata": {},
   "outputs": [
    {
     "name": "stdout",
     "output_type": "stream",
     "text": [
      "On branch master\n",
      "nothing to commit, working tree clean\n"
     ]
    }
   ],
   "source": [
    "!git commit -m \"Actualizando notebook a GitHub\""
   ]
  },
  {
   "cell_type": "markdown",
   "id": "fad6d8ca-b7f9-429e-bc21-ec3af1166e7e",
   "metadata": {},
   "source": [
    "Se agrega el origen remoto del repositorio"
   ]
  },
  {
   "cell_type": "code",
   "execution_count": 15,
   "id": "5db8277e-a545-4508-9493-46f15d084aeb",
   "metadata": {},
   "outputs": [
    {
     "name": "stderr",
     "output_type": "stream",
     "text": [
      "error: remote origin already exists.\n"
     ]
    }
   ],
   "source": [
    "!git remote add origin https://github.com/pjsantizo0607/Laboratorios.git"
   ]
  },
  {
   "cell_type": "markdown",
   "id": "d0799446-e7a4-4b74-8736-0237e3b79004",
   "metadata": {},
   "source": [
    "Se empujan los cambios al repositorio en linea"
   ]
  },
  {
   "cell_type": "code",
   "execution_count": 16,
   "id": "db910fdd-82d2-443d-960b-c2458669b0e3",
   "metadata": {},
   "outputs": [
    {
     "name": "stderr",
     "output_type": "stream",
     "text": [
      "fatal: unable to access 'https://github.com/pjsantizo0607/Laboratorios.git/': SSL certificate problem: self signed certificate in certificate chain\n"
     ]
    }
   ],
   "source": [
    "!git push -u origin master"
   ]
  },
  {
   "cell_type": "markdown",
   "id": "0966c07b-b963-4dee-b7bb-3db80efea341",
   "metadata": {},
   "source": [
    "## 6. Bibliografía"
   ]
  },
  {
   "cell_type": "markdown",
   "id": "2b6f9b55-245b-4707-a50d-c7e8df52da43",
   "metadata": {},
   "source": [
    "Bell, P., & Beer, B. (2015). *Introducing GitHub*. O´Reilly.\n",
    "Chacon, S., & Straub, B. (2009). *Pro Git*. Apress.\n",
    "Guthals, S. (2019). *GitHub for dummies*. A Wiley Brand.\n",
    "Loeliter, J., & McCullough, M. (2012). *Version Control with Git*. O´Reilly.\n",
    "Pipinellis, A. (2015). *GitHub Essentials*. Packt.\n",
    "Skoulikari, A. (2023). *Learning Git ER*. O´Reilly.\n",
    "\n"
   ]
  }
 ],
 "metadata": {
  "kernelspec": {
   "display_name": "Python 3 (ipykernel)",
   "language": "python",
   "name": "python3"
  },
  "language_info": {
   "codemirror_mode": {
    "name": "ipython",
    "version": 3
   },
   "file_extension": ".py",
   "mimetype": "text/x-python",
   "name": "python",
   "nbconvert_exporter": "python",
   "pygments_lexer": "ipython3",
   "version": "3.11.7"
  }
 },
 "nbformat": 4,
 "nbformat_minor": 5
}
