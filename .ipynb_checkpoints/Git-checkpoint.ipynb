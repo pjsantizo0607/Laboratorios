{
 "cells": [
  {
   "cell_type": "markdown",
   "id": "73ea4218-cec1-46df-bd01-b2677e98cd2b",
   "metadata": {},
   "source": [
    "# Investigación de Git y GitHub\n",
    "Pablo Santizo \\\n",
    "Carné: XXXXXX \\\n",
    "Maestría en Ciencia de Datos\\\n",
    "Instituto de Investigación de Operaciones\\\n",
    "Unversidad Galileo\\\n",
    "08 de febrero de 2024"
   ]
  },
  {
   "cell_type": "markdown",
   "id": "63ac4da2-f387-4747-98ff-463d9999bbf6",
   "metadata": {},
   "source": [
    "# 1. Sistema de control de versiones"
   ]
  },
  {
   "cell_type": "markdown",
   "id": "2b0ee326-5886-492e-8b1b-b011a05bfc46",
   "metadata": {},
   "source": [
    "El control de versiones es un sistema que lleva **registro de los cambios que se realizaron en un archivo o conjunto de archivos en el tiempo**, con el fin de poder recuperar versiones anteriores en el futuro."
   ]
  },
  {
   "cell_type": "markdown",
   "id": "f835077d-02d7-460a-8861-16885c8f9903",
   "metadata": {},
   "source": [
    "# 2. Git"
   ]
  },
  {
   "cell_type": "markdown",
   "id": "a480aaff-34b2-4e49-9ae2-ed194200712e",
   "metadata": {},
   "source": [
    "## 2.1 Breve historia de Git"
   ]
  },
  {
   "cell_type": "markdown",
   "id": "02da6a1a-8681-47e5-8004-af439096dc69",
   "metadata": {},
   "source": [
    "El kernel de Linux utilizaba un sistema de control de versiones (DVCS por sus siglas en inglés) que era de propiedad de Bitkeeper. En 2005 esta compañía se vino abajo y dejo de ser gratuita, por lo que impulsó a que los desarrolladores de Linux y su creador, desarrollaran su propia herramienta de sistema de control de versiones.\n",
    "\n",
    "Los objetivos que consideraron para el desarrollo fue la velocidad, el diseño sencillo, gran soporte para miles de ramas parales, que estuviera completamente distribuido y que se pudieran manejar grandes proyectos. Fue así como nación GIT, que desde el 2005 ha madurado y evolucionado mejorando estas características y volviéndose eficiente con grandes proyectos y un sistema de ramificación no lineal."
   ]
  },
  {
   "cell_type": "markdown",
   "id": "4ea2b2b3-0e09-4daf-9a7c-beb1caa2d21c",
   "metadata": {},
   "source": [
    "## ¿Que es Git?"
   ]
  },
  {
   "cell_type": "markdown",
   "id": "3cbfd413-8897-4447-a1e6-99747be085a9",
   "metadata": {},
   "source": [
    "Es un sistema d econtrol de versiones, como se explicó con anterioridad, su objetivo es dar seguimientos a los cambios realizados en los archivos. Por loq ue todos los que trabajan con un proyecto de Git tienen acceso a una copia del proyecto completo.\n",
    "\n",
    "Git maneja y alamacena información de forma diferente a otros sistemas de versiones de cambios. La principal diferenciaes la forma de manejar los datos, Git maneja y almacena los datos como un conjunto de copias instantáneas de un sistema de archivos pequeños. Al confirmarse un cambio o guardar el proyecto, se toma una foto del aspecto del archivo en ese momento y se guarda una referencia. Para buscar la aeficiencia Git no almacena el archivo nuevo, sino un enlace al archivo anterior idéntico al que ya fue almacenado.\n",
    "\n",
    "Asimismo, la mayoría de las operaciones son locales y no se necesita información de la red para funcionar. Por lo que para navegar en el proyecto se utiliza la base de datos local. Por lo que de no tener acceso a la red, se puede trabajar durante ese tiempo y posteriormente al tener acceso se confirman los cambios para subirlos."
   ]
  },
  {
   "cell_type": "markdown",
   "id": "ba28001b-b2ed-4bb0-b941-d8cb4bef9611",
   "metadata": {},
   "source": [
    "# Que es Github"
   ]
  },
  {
   "cell_type": "code",
   "execution_count": null,
   "id": "0f868d2c-81c4-4f2b-8606-db3a10756b31",
   "metadata": {},
   "outputs": [],
   "source": []
  },
  {
   "cell_type": "code",
   "execution_count": null,
   "id": "ff2afdfb-80c7-4e26-b867-2134ae526d8c",
   "metadata": {},
   "outputs": [],
   "source": []
  },
  {
   "cell_type": "markdown",
   "id": "efa54473-df14-4d0f-9907-32e182e2d109",
   "metadata": {
    "tags": []
   },
   "source": [
    "# magic cells"
   ]
  },
  {
   "cell_type": "code",
   "execution_count": 11,
   "id": "b26f1510-e511-4ed8-a72a-06459d22ecf8",
   "metadata": {},
   "outputs": [
    {
     "name": "stdout",
     "output_type": "stream",
     "text": [
      "[WinError 2] El sistema no puede encontrar el archivo especificado: 'C:/Users/psantizo/Documents/Ciencia_de_datos/Notebooks/!git commit -mEntregas'\n",
      "C:\\Users\\psantizo\\Documents\\Ciencia_de_datos\\Notebooks\\Entregas\n"
     ]
    }
   ],
   "source": [
    "cd \"C:/Users/psantizo/Documents/Ciencia_de_datos/Notebooks/!git commit -mEntregas\""
   ]
  },
  {
   "cell_type": "code",
   "execution_count": 12,
   "id": "ab1a5fcf-11a5-462c-b87e-3084809ae5bc",
   "metadata": {},
   "outputs": [
    {
     "name": "stdout",
     "output_type": "stream",
     "text": [
      "Reinitialized existing Git repository in C:/Users/psantizo/Documents/Ciencia_de_datos/Notebooks/Entregas/.git/\n"
     ]
    }
   ],
   "source": [
    "!git init"
   ]
  },
  {
   "cell_type": "code",
   "execution_count": 13,
   "id": "f89cd6e0-b22f-4cc4-ada1-ba228eb8577c",
   "metadata": {},
   "outputs": [
    {
     "data": {
      "text/plain": [
       "['Nothing specified, nothing added.',\n",
       " \"hint: Maybe you wanted to say 'git add .'?\",\n",
       " 'hint: Turn this message off by running',\n",
       " 'hint: \"git config advice.addEmptyPathspec false\"']"
      ]
     },
     "execution_count": 13,
     "metadata": {},
     "output_type": "execute_result"
    }
   ],
   "source": [
    "!!git add "
   ]
  },
  {
   "cell_type": "code",
   "execution_count": 14,
   "id": "ed109f43-0fe1-4b4e-9cd1-cc1525132003",
   "metadata": {},
   "outputs": [
    {
     "name": "stderr",
     "output_type": "stream",
     "text": [
      "warning: in the working copy of 'Git.ipynb', LF will be replaced by CRLF the next time Git touches it\n"
     ]
    }
   ],
   "source": [
    "!git add ."
   ]
  },
  {
   "cell_type": "code",
   "execution_count": 15,
   "id": "67fb677c-f6f1-40b6-be73-d4b1eda6c625",
   "metadata": {},
   "outputs": [
    {
     "name": "stderr",
     "output_type": "stream",
     "text": [
      "error: switch `m' requires a value\n"
     ]
    }
   ],
   "source": [
    "!git commit -m"
   ]
  },
  {
   "cell_type": "code",
   "execution_count": 16,
   "id": "4442bd0e-2fc0-419b-8a4c-91d58b8fed8f",
   "metadata": {},
   "outputs": [
    {
     "name": "stdout",
     "output_type": "stream",
     "text": [
      "[master 046bde2] Actualizando notebook a GitHub\n",
      " Committer: Pablo JosuÃ© Santizo Flores <psantizo@MINFIN.DI.GOBIERNO>\n",
      "Your name and email address were configured automatically based\n",
      "on your username and hostname. Please check that they are accurate.\n",
      "You can suppress this message by setting them explicitly:\n",
      "\n",
      "    git config --global user.name \"Your Name\"\n",
      "    git config --global user.email you@example.com\n",
      "\n",
      "After doing this, you may fix the identity used for this commit with:\n",
      "\n",
      "    git commit --amend --reset-author\n",
      "\n",
      " 1 file changed, 101 insertions(+), 21 deletions(-)\n"
     ]
    }
   ],
   "source": [
    "!git commit -m \"Actualizando notebook a GitHub\""
   ]
  },
  {
   "cell_type": "code",
   "execution_count": 17,
   "id": "5db8277e-a545-4508-9493-46f15d084aeb",
   "metadata": {},
   "outputs": [
    {
     "name": "stderr",
     "output_type": "stream",
     "text": [
      "error: remote origin already exists.\n"
     ]
    }
   ],
   "source": [
    "!git remote add origin https://github.com/pjsantizo0607/Laboratorios.git"
   ]
  },
  {
   "cell_type": "code",
   "execution_count": 18,
   "id": "db910fdd-82d2-443d-960b-c2458669b0e3",
   "metadata": {},
   "outputs": [
    {
     "name": "stdout",
     "output_type": "stream",
     "text": [
      "branch 'master' set up to track 'origin/master'.\n"
     ]
    },
    {
     "name": "stderr",
     "output_type": "stream",
     "text": [
      "To https://github.com/pjsantizo0607/Laboratorios.git\n",
      " * [new branch]      master -> master\n"
     ]
    }
   ],
   "source": [
    "!git push -u origin master"
   ]
  },
  {
   "cell_type": "code",
   "execution_count": null,
   "id": "056823f5-6237-47a4-8838-56090d329010",
   "metadata": {},
   "outputs": [],
   "source": []
  }
 ],
 "metadata": {
  "kernelspec": {
   "display_name": "Python 3 (ipykernel)",
   "language": "python",
   "name": "python3"
  },
  "language_info": {
   "codemirror_mode": {
    "name": "ipython",
    "version": 3
   },
   "file_extension": ".py",
   "mimetype": "text/x-python",
   "name": "python",
   "nbconvert_exporter": "python",
   "pygments_lexer": "ipython3",
   "version": "3.11.7"
  }
 },
 "nbformat": 4,
 "nbformat_minor": 5
}
